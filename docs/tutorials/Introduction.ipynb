{
 "cells": [
  {
   "cell_type": "markdown",
   "id": "4054e0ec-1f38-4b50-9e5f-f55add61170c",
   "metadata": {},
   "source": [
    "![OmniSci](https://assets-global.website-files.com/5deb974b5176872b2c106aba/5dee79635d7b1979b584c100_24px%20blue-p-500.png)\n",
    "\n",
    "<big><big><h1>+</h1></big></big>\n",
    "\n",
    "![SQLAlchemy](https://www.sqlalchemy.org/img/sqla_logo.png)\n"
   ]
  },
  {
   "cell_type": "markdown",
   "id": "deeaef78-3fca-40cb-8a44-cdaa28995378",
   "metadata": {
    "tags": []
   },
   "source": [
    "# Getting started with SQLAlchemy OmniSci\n",
    "\n",
    "\n",
    "**OmniSciDB** is the world's fastest open source **SQL** engine, \n",
    "equally powerful at the heart of the OmniSci platform as it is accelerating \n",
    "third-party analytic apps. It optimizes the memory and computes layers to deliver unprecedented \n",
    "performance. **OmniSciDB** was designed to keep hot data in **GPU** memory for the \n",
    "fastest access possible. Other **GPU** database systems have taken the approach \n",
    "of storing the data in **CPU** memory, only moving it to **GPU** at query time, \n",
    "trading the gains they receive from **GPU** parallelism with transfer overheads \n",
    "over the **PCIe** bus.\n",
    "\n",
    "**OmniSciDB** avoids this transfer inefficiency by caching the most recently \n",
    "touched data in High Bandwidth Memory on the **GPU**, which offers up to 10x \n",
    "the bandwidth of **CPU DRAM** and far lower latency. **OmniSciDB** is also \n",
    "designed to exploit efficient inter-GPU communication infrastructure such as \n",
    "**NVIDIA NVLink** when available.\n",
    "\n",
    "For data manipulation, OmniSci provides **pyomnisci**/**pyomniscidb** but,\n",
    "maybe you would like to use a more common and high level tool for your data workflow such as\n",
    "[Ibis](https://github.com/ibis-project/ibis) or \n",
    "[SQLAlchemy](https://github.com/sqlalchemy/sqlalchemy). The great news is that\n",
    "OmniSci also provides a backend/dialect for both!\n",
    "\n",
    "If you want more information about `ibis-omniscidb` check its \n",
    "[repository](https://github.com/omnisci/ibis-omniscidb)\n",
    "\n",
    "This tutorial is about the first steps with **SQLAlchemy OmniSci**!\n",
    "\n",
    "## Installation\n",
    "\n",
    "**sqlalchemy-omnisci** is available on **PyPI** and **conda-forge** and you can \n",
    "install it using one of the following commands:\n",
    "\n",
    "```bash\n",
    "# if you are a conda user\n",
    "$ conda install -y sqlalchemy-omnisci\n",
    "```\n",
    "\n",
    "or\n",
    "\n",
    "```bash\n",
    "# if you are a pip user\n",
    "$ pip install sqlalchemy-omnisci\n",
    "```\n",
    "\n",
    "`sqlalchemy-omnisci` is a `sqlalchemy` dialect, so you don't need to import \n",
    "`sqlalchemy-omnisci` directly. Just import `sqlalchemy` and create a connection \n",
    "using the following structure:\n",
    "\n",
    "`omnisci://<user>:<pass>@<host>:<port>/<db>?protocol=<protocol>`\n"
   ]
  },
  {
   "cell_type": "code",
   "execution_count": 1,
   "id": "0c7bb7a2-8b5c-4faf-b6dc-38ac9e130eb3",
   "metadata": {},
   "outputs": [
    {
     "data": {
      "text/plain": [
       "'1.4.25'"
      ]
     },
     "execution_count": 1,
     "metadata": {},
     "output_type": "execute_result"
    }
   ],
   "source": [
    "import sqlalchemy\n",
    "from sqlalchemy import create_engine\n",
    "import pandas as pd\n",
    "\n",
    "sqlalchemy.__version__"
   ]
  },
  {
   "cell_type": "code",
   "execution_count": 2,
   "id": "71402fcd-588e-416f-be9d-f3b7690998ae",
   "metadata": {},
   "outputs": [],
   "source": [
    "engine = create_engine(\n",
    "    \"omnisci://demouser:HyperInteractive@\"\n",
    "    \"metis.mapd.com:443/mapd?protocol=https\"\n",
    ")\n",
    "\n",
    "con = engine.connect()"
   ]
  },
  {
   "cell_type": "markdown",
   "id": "f7ff5fa2-08d3-4939-994f-ba84539a4bb2",
   "metadata": {},
   "source": [
    "For this first tutorial, we are going to use a table called `github`."
   ]
  },
  {
   "cell_type": "code",
   "execution_count": 3,
   "id": "834b2717-2466-4393-b775-1b24200f98ad",
   "metadata": {},
   "outputs": [],
   "source": [
    "metadata = sqlalchemy.MetaData()\n",
    "\n",
    "github = sqlalchemy.Table(\n",
    "    'github', \n",
    "    metadata, \n",
    "    autoload=True, \n",
    "    autoload_with=engine\n",
    ")"
   ]
  },
  {
   "cell_type": "markdown",
   "id": "072e34a8-7cb7-4bc1-b7b2-94a884beb2db",
   "metadata": {},
   "source": [
    "And, inspecting the variable `github` it seems it is working!"
   ]
  },
  {
   "cell_type": "code",
   "execution_count": 4,
   "id": "f4f7620d-5bb8-44fc-a3f1-2c55a8393310",
   "metadata": {},
   "outputs": [
    {
     "data": {
      "text/plain": [
       "Table('github', MetaData(), Column('type', VARCHAR(length=52), table=<github>), Column('public_', BOOLEAN(), table=<github>), Column('repo_id', BIGINT(), table=<github>), Column('repo_name', VARCHAR(length=52), table=<github>), Column('repo_url', VARCHAR(length=52), table=<github>), Column('actor_id', BIGINT(), table=<github>), Column('actor_login', BIGINT(), table=<github>), Column('actor_gravatar_id', VARCHAR(length=52), table=<github>), Column('actor_avatar_url', VARCHAR(length=52), table=<github>), Column('actor_url', VARCHAR(length=52), table=<github>), Column('org_id', BIGINT(), table=<github>), Column('org_login', VARCHAR(length=52), table=<github>), Column('org_gravatar_id', VARCHAR(length=52), table=<github>), Column('org_avatar_url', VARCHAR(length=52), table=<github>), Column('org_url', VARCHAR(length=52), table=<github>), Column('created_at', TIMESTAMP(), table=<github>), Column('id', VARCHAR(length=52), table=<github>), schema=None)"
      ]
     },
     "execution_count": 4,
     "metadata": {},
     "output_type": "execute_result"
    }
   ],
   "source": [
    "github"
   ]
  },
  {
   "cell_type": "markdown",
   "id": "269ee6c2-9c21-4dcd-a11a-378f4bcee192",
   "metadata": {},
   "source": [
    "Now, let's try a simple query using `sqlalchemy` API:"
   ]
  },
  {
   "cell_type": "code",
   "execution_count": 5,
   "id": "61e1775c-72cc-4dc3-b862-ba9c9da960e8",
   "metadata": {},
   "outputs": [
    {
     "data": {
      "text/plain": [
       "'SELECT github.type, github.public_, github.repo_id, github.repo_name, github.repo_url, github.actor_id, github.actor_login, github.actor_gravatar_id, github.actor_avatar_url, github.actor_url, github.org_id, github.org_login, github.org_gravatar_id, github.org_avatar_url, github.org_url, github.created_at, github.id \\nFROM github\\n LIMIT :param_1'"
      ]
     },
     "execution_count": 5,
     "metadata": {},
     "output_type": "execute_result"
    }
   ],
   "source": [
    "query = sqlalchemy.select([github]).limit(1)\n",
    "str(query.compile())"
   ]
  },
  {
   "cell_type": "code",
   "execution_count": 6,
   "id": "9c3e5c8b-8723-4e88-9bd4-e9c8bb9b8457",
   "metadata": {},
   "outputs": [
    {
     "data": {
      "text/plain": [
       "[('PushEvent', True, 13599170, 'ile/ile.github.io', 'https://api.github.com/repos/ile/ile.github.io', 433707, None, None, 'https://avatars.githubusercontent.com/u/433707?', 'https://api.github.com/users/ile', None, None, None, None, None, datetime.datetime(2015, 1, 1, 14, 23, 48), '2489636048')]"
      ]
     },
     "execution_count": 6,
     "metadata": {},
     "output_type": "execute_result"
    }
   ],
   "source": [
    "results = con.execute(query).fetchall()\n",
    "results"
   ]
  },
  {
   "cell_type": "markdown",
   "id": "679f93dd-eeff-4922-b4dd-2c58fc32627f",
   "metadata": {},
   "source": [
    "We can also use **Pandas** to manipulate this result!"
   ]
  },
  {
   "cell_type": "code",
   "execution_count": 7,
   "id": "25c5b154-6dd9-42bf-85de-35343acd93dc",
   "metadata": {},
   "outputs": [
    {
     "data": {
      "text/html": [
       "<div>\n",
       "<style scoped>\n",
       "    .dataframe tbody tr th:only-of-type {\n",
       "        vertical-align: middle;\n",
       "    }\n",
       "\n",
       "    .dataframe tbody tr th {\n",
       "        vertical-align: top;\n",
       "    }\n",
       "\n",
       "    .dataframe thead th {\n",
       "        text-align: right;\n",
       "    }\n",
       "</style>\n",
       "<table border=\"1\" class=\"dataframe\">\n",
       "  <thead>\n",
       "    <tr style=\"text-align: right;\">\n",
       "      <th></th>\n",
       "      <th>type</th>\n",
       "      <th>public_</th>\n",
       "      <th>repo_id</th>\n",
       "      <th>repo_name</th>\n",
       "      <th>repo_url</th>\n",
       "      <th>actor_id</th>\n",
       "      <th>actor_login</th>\n",
       "      <th>actor_gravatar_id</th>\n",
       "      <th>actor_avatar_url</th>\n",
       "      <th>actor_url</th>\n",
       "      <th>org_id</th>\n",
       "      <th>org_login</th>\n",
       "      <th>org_gravatar_id</th>\n",
       "      <th>org_avatar_url</th>\n",
       "      <th>org_url</th>\n",
       "      <th>created_at</th>\n",
       "      <th>id</th>\n",
       "    </tr>\n",
       "  </thead>\n",
       "  <tbody>\n",
       "    <tr>\n",
       "      <th>0</th>\n",
       "      <td>PushEvent</td>\n",
       "      <td>True</td>\n",
       "      <td>13599170</td>\n",
       "      <td>ile/ile.github.io</td>\n",
       "      <td>https://api.github.com/repos/ile/ile.github.io</td>\n",
       "      <td>433707</td>\n",
       "      <td>None</td>\n",
       "      <td>None</td>\n",
       "      <td>https://avatars.githubusercontent.com/u/433707?</td>\n",
       "      <td>https://api.github.com/users/ile</td>\n",
       "      <td>None</td>\n",
       "      <td>None</td>\n",
       "      <td>None</td>\n",
       "      <td>None</td>\n",
       "      <td>None</td>\n",
       "      <td>2015-01-01 14:23:48</td>\n",
       "      <td>2489636048</td>\n",
       "    </tr>\n",
       "  </tbody>\n",
       "</table>\n",
       "</div>"
      ],
      "text/plain": [
       "        type  public_   repo_id          repo_name  \\\n",
       "0  PushEvent     True  13599170  ile/ile.github.io   \n",
       "\n",
       "                                         repo_url  actor_id actor_login  \\\n",
       "0  https://api.github.com/repos/ile/ile.github.io    433707        None   \n",
       "\n",
       "  actor_gravatar_id                                 actor_avatar_url  \\\n",
       "0              None  https://avatars.githubusercontent.com/u/433707?   \n",
       "\n",
       "                          actor_url org_id org_login org_gravatar_id  \\\n",
       "0  https://api.github.com/users/ile   None      None            None   \n",
       "\n",
       "  org_avatar_url org_url          created_at          id  \n",
       "0           None    None 2015-01-01 14:23:48  2489636048  "
      ]
     },
     "execution_count": 7,
     "metadata": {},
     "output_type": "execute_result"
    }
   ],
   "source": [
    "df = pd.DataFrame(results)\n",
    "df.columns = results[0].keys()\n",
    "df"
   ]
  },
  {
   "cell_type": "markdown",
   "id": "a32ca0a5-014e-4343-b9ca-80acf26be4d7",
   "metadata": {},
   "source": [
    "Also, if you are familiar with **SQL** you it directly:"
   ]
  },
  {
   "cell_type": "code",
   "execution_count": 8,
   "id": "12226b27-972e-4c9a-959b-2b6627fd85b7",
   "metadata": {},
   "outputs": [
    {
     "data": {
      "text/plain": [
       "[('IssueCommentEvent', 1, 16635032, 'start-jsk/rtmros_hironx', 'https://api.github.com/repos/start-jsk/rtmros_hironx', 1840401, 130, None, 'https://avatars.githubusercontent.com/u/1840401?', 'https://api.github.com/users/130s', 2988053, 'start-jsk', None, 'https://avatars.githubusercontent.com/u/2988053?', 'https://api.github.com/orgs/start-jsk', datetime.datetime(2015, 1, 1, 0, 30, 4), '2489383075')]"
      ]
     },
     "execution_count": 8,
     "metadata": {},
     "output_type": "execute_result"
    }
   ],
   "source": [
    "results = con.execute(\"SELECT * FROM github LIMIT 1\").fetchall()\n",
    "results"
   ]
  },
  {
   "cell_type": "markdown",
   "id": "02973679-b04a-4ea5-9f11-338e50f002f6",
   "metadata": {},
   "source": [
    "### Filtering"
   ]
  },
  {
   "cell_type": "markdown",
   "id": "9772e057-fa96-4147-9e02-c83398359cfb",
   "metadata": {},
   "source": [
    "The **sqlalchemy** API is very similar to **SQL** structure. For example,\n",
    "to execute a SQL `SELECT` you can use `sqalchemy.select` that returns an object\n",
    "that allows other **SQL** clauses, such as `limit`, `where`, etc.\n",
    "\n",
    "Let's try to filter our dataset with the first 10 records with `type PushEvent`."
   ]
  },
  {
   "cell_type": "raw",
   "id": "5c6b4026-b64b-4507-94a0-170a8e15d5f5",
   "metadata": {},
   "source": [
    "query = (\n",
    "    sqla.select([github])\n",
    "    .where(github.columns.type==\"PushEvent\").limit(10)\n",
    ")"
   ]
  },
  {
   "cell_type": "markdown",
   "id": "0b3404a2-b17a-4d7e-a535-583fdab6beb7",
   "metadata": {},
   "source": [
    "And it will be translated to **SQL**:"
   ]
  },
  {
   "cell_type": "code",
   "execution_count": 9,
   "id": "ac04818e-203a-4ad7-a3e1-9d2bcf7dce29",
   "metadata": {},
   "outputs": [
    {
     "name": "stdout",
     "output_type": "stream",
     "text": [
      "SELECT github.type, github.public_, github.repo_id, github.repo_name, github.repo_url, github.actor_id, github.actor_login, github.actor_gravatar_id, github.actor_avatar_url, github.actor_url, github.org_id, github.org_login, github.org_gravatar_id, github.org_avatar_url, github.org_url, github.created_at, github.id \n",
      "FROM github\n",
      " LIMIT :param_1\n"
     ]
    }
   ],
   "source": [
    "print(query.compile())"
   ]
  },
  {
   "cell_type": "markdown",
   "id": "1e72ffc4-85a6-4a05-b1ca-3ba0d95303ad",
   "metadata": {},
   "source": [
    "As you can see in the output above, it uses some \"variables\" instead of the real values. If you want see the real **SQL**, use the following command:"
   ]
  },
  {
   "cell_type": "code",
   "execution_count": 10,
   "id": "b4a757db-0dd6-4116-b0ea-018fc1996869",
   "metadata": {},
   "outputs": [
    {
     "name": "stdout",
     "output_type": "stream",
     "text": [
      "SELECT github.type, github.public_, github.repo_id, github.repo_name, github.repo_url, github.actor_id, github.actor_login, github.actor_gravatar_id, github.actor_avatar_url, github.actor_url, github.org_id, github.org_login, github.org_gravatar_id, github.org_avatar_url, github.org_url, github.created_at, github.id \n",
      "FROM github \n",
      " LIMIT 1\n"
     ]
    }
   ],
   "source": [
    "print(query.compile(engine, compile_kwargs={\"literal_binds\": True}))"
   ]
  },
  {
   "cell_type": "markdown",
   "id": "be362945-94d2-499e-b201-c4f4732cd0d6",
   "metadata": {},
   "source": [
    "### Using with Pandas\n",
    "\n",
    "If you managed to read until here, probably you also have already heard about [Pandas](https://pandas.pydata.org/),\n",
    "the most popular **Data Frame** library for **Python**. As **sqlalchemy-omnisci** is a **sqlalchemy** dialect,\n",
    "you also can use it directly with **Pandas**:\n"
   ]
  },
  {
   "cell_type": "code",
   "execution_count": 11,
   "id": "f848e412-c0f4-49e7-a3e7-84420a37b85f",
   "metadata": {},
   "outputs": [
    {
     "data": {
      "text/html": [
       "<div>\n",
       "<style scoped>\n",
       "    .dataframe tbody tr th:only-of-type {\n",
       "        vertical-align: middle;\n",
       "    }\n",
       "\n",
       "    .dataframe tbody tr th {\n",
       "        vertical-align: top;\n",
       "    }\n",
       "\n",
       "    .dataframe thead th {\n",
       "        text-align: right;\n",
       "    }\n",
       "</style>\n",
       "<table border=\"1\" class=\"dataframe\">\n",
       "  <thead>\n",
       "    <tr style=\"text-align: right;\">\n",
       "      <th></th>\n",
       "      <th>type</th>\n",
       "      <th>public_</th>\n",
       "      <th>repo_id</th>\n",
       "      <th>repo_name</th>\n",
       "      <th>repo_url</th>\n",
       "      <th>actor_id</th>\n",
       "      <th>actor_login</th>\n",
       "      <th>actor_gravatar_id</th>\n",
       "      <th>actor_avatar_url</th>\n",
       "      <th>actor_url</th>\n",
       "      <th>org_id</th>\n",
       "      <th>org_login</th>\n",
       "      <th>org_gravatar_id</th>\n",
       "      <th>org_avatar_url</th>\n",
       "      <th>org_url</th>\n",
       "      <th>created_at</th>\n",
       "      <th>id</th>\n",
       "    </tr>\n",
       "  </thead>\n",
       "  <tbody>\n",
       "    <tr>\n",
       "      <th>0</th>\n",
       "      <td>PushEvent</td>\n",
       "      <td>True</td>\n",
       "      <td>28684236</td>\n",
       "      <td>toopay/toopay.github.io</td>\n",
       "      <td>https://api.github.com/repos/toopay/toopay.git...</td>\n",
       "      <td>534245</td>\n",
       "      <td>None</td>\n",
       "      <td>None</td>\n",
       "      <td>https://avatars.githubusercontent.com/u/534245?</td>\n",
       "      <td>https://api.github.com/users/toopay</td>\n",
       "      <td>None</td>\n",
       "      <td>None</td>\n",
       "      <td>None</td>\n",
       "      <td>None</td>\n",
       "      <td>None</td>\n",
       "      <td>2015-01-01 10:52:04</td>\n",
       "      <td>2489561906</td>\n",
       "    </tr>\n",
       "  </tbody>\n",
       "</table>\n",
       "</div>"
      ],
      "text/plain": [
       "        type  public_   repo_id                repo_name  \\\n",
       "0  PushEvent     True  28684236  toopay/toopay.github.io   \n",
       "\n",
       "                                            repo_url  actor_id actor_login  \\\n",
       "0  https://api.github.com/repos/toopay/toopay.git...    534245        None   \n",
       "\n",
       "  actor_gravatar_id                                 actor_avatar_url  \\\n",
       "0              None  https://avatars.githubusercontent.com/u/534245?   \n",
       "\n",
       "                             actor_url org_id org_login org_gravatar_id  \\\n",
       "0  https://api.github.com/users/toopay   None      None            None   \n",
       "\n",
       "  org_avatar_url org_url          created_at          id  \n",
       "0           None    None 2015-01-01 10:52:04  2489561906  "
      ]
     },
     "execution_count": 11,
     "metadata": {},
     "output_type": "execute_result"
    }
   ],
   "source": [
    "pd.read_sql(query, engine)"
   ]
  },
  {
   "cell_type": "markdown",
   "id": "1eed87de-39c8-4eae-a70a-f532d261c203",
   "metadata": {},
   "source": [
    "Or, if you want to use **SQL** directly:"
   ]
  },
  {
   "cell_type": "code",
   "execution_count": 12,
   "id": "965c11ac-cb2a-41b8-afb6-402e2efb37c9",
   "metadata": {},
   "outputs": [
    {
     "data": {
      "text/html": [
       "<div>\n",
       "<style scoped>\n",
       "    .dataframe tbody tr th:only-of-type {\n",
       "        vertical-align: middle;\n",
       "    }\n",
       "\n",
       "    .dataframe tbody tr th {\n",
       "        vertical-align: top;\n",
       "    }\n",
       "\n",
       "    .dataframe thead th {\n",
       "        text-align: right;\n",
       "    }\n",
       "</style>\n",
       "<table border=\"1\" class=\"dataframe\">\n",
       "  <thead>\n",
       "    <tr style=\"text-align: right;\">\n",
       "      <th></th>\n",
       "      <th>type</th>\n",
       "      <th>public_</th>\n",
       "      <th>repo_id</th>\n",
       "      <th>repo_name</th>\n",
       "      <th>repo_url</th>\n",
       "      <th>actor_id</th>\n",
       "      <th>actor_login</th>\n",
       "      <th>actor_gravatar_id</th>\n",
       "      <th>actor_avatar_url</th>\n",
       "      <th>actor_url</th>\n",
       "      <th>org_id</th>\n",
       "      <th>org_login</th>\n",
       "      <th>org_gravatar_id</th>\n",
       "      <th>org_avatar_url</th>\n",
       "      <th>org_url</th>\n",
       "      <th>created_at</th>\n",
       "      <th>id</th>\n",
       "    </tr>\n",
       "  </thead>\n",
       "  <tbody>\n",
       "    <tr>\n",
       "      <th>0</th>\n",
       "      <td>PushEvent</td>\n",
       "      <td>1</td>\n",
       "      <td>28669269</td>\n",
       "      <td>colbycheeze/kittens-api</td>\n",
       "      <td>https://api.github.com/repos/colbycheeze/kitte...</td>\n",
       "      <td>8884298</td>\n",
       "      <td>None</td>\n",
       "      <td>None</td>\n",
       "      <td>https://avatars.githubusercontent.com/u/8884298?</td>\n",
       "      <td>https://api.github.com/users/colbycheeze</td>\n",
       "      <td>None</td>\n",
       "      <td>None</td>\n",
       "      <td>None</td>\n",
       "      <td>None</td>\n",
       "      <td>None</td>\n",
       "      <td>2015-01-01 01:19:40</td>\n",
       "      <td>2489403456</td>\n",
       "    </tr>\n",
       "  </tbody>\n",
       "</table>\n",
       "</div>"
      ],
      "text/plain": [
       "        type  public_   repo_id                repo_name  \\\n",
       "0  PushEvent        1  28669269  colbycheeze/kittens-api   \n",
       "\n",
       "                                            repo_url  actor_id actor_login  \\\n",
       "0  https://api.github.com/repos/colbycheeze/kitte...   8884298        None   \n",
       "\n",
       "  actor_gravatar_id                                  actor_avatar_url  \\\n",
       "0              None  https://avatars.githubusercontent.com/u/8884298?   \n",
       "\n",
       "                                  actor_url org_id org_login org_gravatar_id  \\\n",
       "0  https://api.github.com/users/colbycheeze   None      None            None   \n",
       "\n",
       "  org_avatar_url org_url          created_at          id  \n",
       "0           None    None 2015-01-01 01:19:40  2489403456  "
      ]
     },
     "execution_count": 12,
     "metadata": {},
     "output_type": "execute_result"
    }
   ],
   "source": [
    "sql = \"SELECT * FROM github LIMIT 1\"\n",
    "pd.read_sql(sql, engine)"
   ]
  },
  {
   "cell_type": "markdown",
   "id": "17d512ce-b3a7-4262-9f93-c9b0884156c3",
   "metadata": {},
   "source": [
    "## Conclusions\n",
    "\n",
    "This document aims to help users to start with **SQLAlchemy Omnisci** and it doesn't provide an exhausted list of functions or \n",
    "possibilities. \n",
    "\n",
    "For more information about **SQLAlchemy**, check its [official tutorials](https://docs.sqlalchemy.org/en/14/orm/tutorial.html)."
   ]
  }
 ],
 "metadata": {
  "kernelspec": {
   "display_name": "Python 3 (ipykernel)",
   "language": "python",
   "name": "python3"
  },
  "language_info": {
   "codemirror_mode": {
    "name": "ipython",
    "version": 3
   },
   "file_extension": ".py",
   "mimetype": "text/x-python",
   "name": "python",
   "nbconvert_exporter": "python",
   "pygments_lexer": "ipython3",
   "version": "3.8.12"
  }
 },
 "nbformat": 4,
 "nbformat_minor": 5
}
